{
  "nbformat": 4,
  "nbformat_minor": 0,
  "metadata": {
    "accelerator": "GPU",
    "colab": {
      "name": "NLP Course - Week 3 Exercise Question.ipynb",
      "provenance": []
    },
    "kernelspec": {
      "display_name": "Python 3",
      "name": "python3"
    }
  },
  "cells": [
    {
      "cell_type": "code",
      "metadata": {
        "id": "zX4Kg8DUTKWO"
      },
      "source": [
        "#@title Licensed under the Apache License, Version 2.0 (the \"License\");\n",
        "# you may not use this file except in compliance with the License.\n",
        "# You may obtain a copy of the License at\n",
        "#\n",
        "# https://www.apache.org/licenses/LICENSE-2.0\n",
        "#\n",
        "# Unless required by applicable law or agreed to in writing, software\n",
        "# distributed under the License is distributed on an \"AS IS\" BASIS,\n",
        "# WITHOUT WARRANTIES OR CONDITIONS OF ANY KIND, either express or implied.\n",
        "# See the License for the specific language governing permissions and\n",
        "# limitations under the License."
      ],
      "execution_count": null,
      "outputs": []
    },
    {
      "cell_type": "code",
      "metadata": {
        "id": "hmA6EzkQJ5jt"
      },
      "source": [
        "import json\n",
        "import tensorflow as tf\n",
        "import csv\n",
        "import random\n",
        "import numpy as np\n",
        "\n",
        "from tensorflow.keras.preprocessing.text import Tokenizer\n",
        "from tensorflow.keras.preprocessing.sequence import pad_sequences\n",
        "from tensorflow.keras.utils import to_categorical\n",
        "from tensorflow.keras import regularizers\n",
        "\n",
        "\n",
        "embedding_dim = 100\n",
        "max_length = 16\n",
        "trunc_type='post'\n",
        "padding_type='post'\n",
        "oov_tok = \"<OOV>\"\n",
        "training_size= 160000 #Your dataset size here. Experiment using smaller values (i.e. 16000), but don't forget to train on at least 160000 to see the best effects\n",
        "test_portion=.1\n",
        "\n",
        "corpus = []\n"
      ],
      "execution_count": 1,
      "outputs": []
    },
    {
      "cell_type": "code",
      "metadata": {
        "colab": {
          "base_uri": "https://localhost:8080/"
        },
        "id": "bM0l_dORKqE0",
        "outputId": "98012faf-5317-4759-aab5-a1a7bbf7fd06"
      },
      "source": [
        "# Note that I cleaned the Stanford dataset to remove LATIN1 encoding to make it easier for Python CSV reader\n",
        "# You can do that yourself with:\n",
        "# iconv -f LATIN1 -t UTF8 training.1600000.processed.noemoticon.csv -o training_cleaned.csv\n",
        "# I then hosted it on my site to make it easier to use in this notebook\n",
        "\n",
        "!wget --no-check-certificate \\\n",
        "    https://storage.googleapis.com/laurencemoroney-blog.appspot.com/training_cleaned.csv \\\n",
        "    -O /tmp/training_cleaned.csv\n",
        "\n",
        "num_sentences = 0\n",
        "\n",
        "with open(\"/tmp/training_cleaned.csv\") as csvfile:\n",
        "    reader = csv.reader(csvfile, delimiter=',')\n",
        "    for row in reader:\n",
        "      # Your Code here. Create list items where the first item is the text, found in row[5], and the second is the label. Note that the label is a '0' or a '4' in the text. When it's the former, make\n",
        "      # your label to be 0, otherwise 1. Keep a count of the number of sentences in num_sentences\n",
        "        list_item=[]\n",
        "        # YOUR CODE HERE\n",
        "        list_item.append(row[5])\n",
        "        if int(row[0]) == 0:\n",
        "          list_item.append(0)\n",
        "        else:\n",
        "          list_item.append(1)\n",
        "        num_sentences = num_sentences + 1\n",
        "        corpus.append(list_item)\n"
      ],
      "execution_count": 2,
      "outputs": [
        {
          "output_type": "stream",
          "text": [
            "--2021-01-16 18:34:27--  https://storage.googleapis.com/laurencemoroney-blog.appspot.com/training_cleaned.csv\n",
            "Resolving storage.googleapis.com (storage.googleapis.com)... 142.250.31.128, 172.217.2.112, 172.217.164.144, ...\n",
            "Connecting to storage.googleapis.com (storage.googleapis.com)|142.250.31.128|:443... connected.\n",
            "HTTP request sent, awaiting response... 200 OK\n",
            "Length: 238942690 (228M) [application/octet-stream]\n",
            "Saving to: ‘/tmp/training_cleaned.csv’\n",
            "\n",
            "/tmp/training_clean 100%[===================>] 227.87M   228MB/s    in 1.0s    \n",
            "\n",
            "2021-01-16 18:34:28 (228 MB/s) - ‘/tmp/training_cleaned.csv’ saved [238942690/238942690]\n",
            "\n"
          ],
          "name": "stdout"
        }
      ]
    },
    {
      "cell_type": "code",
      "metadata": {
        "colab": {
          "base_uri": "https://localhost:8080/"
        },
        "id": "3kxblBUjEUX-",
        "outputId": "594d5dd3-87fe-4be4-db2a-5ed67880059f"
      },
      "source": [
        "print(num_sentences)\n",
        "print(len(corpus))\n",
        "print(corpus[1])\n",
        "\n",
        "# Expected Output:\n",
        "# 1600000\n",
        "# 1600000\n",
        "# [\"is upset that he can't update his Facebook by texting it... and might cry as a result  School today also. Blah!\", 0]"
      ],
      "execution_count": 3,
      "outputs": [
        {
          "output_type": "stream",
          "text": [
            "1600000\n",
            "1600000\n",
            "[\"is upset that he can't update his Facebook by texting it... and might cry as a result  School today also. Blah!\", 0]\n"
          ],
          "name": "stdout"
        }
      ]
    },
    {
      "cell_type": "code",
      "metadata": {
        "id": "ohOGz24lsNAD"
      },
      "source": [
        "sentences=[]\n",
        "labels=[]\n",
        "random.shuffle(corpus)\n",
        "for x in range(training_size):\n",
        "    sentences.append(corpus[x][0]) # YOUR CODE HERE\n",
        "    labels.append(corpus[x][1]) # YOUR CODE HERE\n",
        "\n",
        "\n",
        "tokenizer = Tokenizer()\n",
        "tokenizer.fit_on_texts(sentences) # YOUR CODE HERE\n",
        "\n",
        "word_index = tokenizer.word_index\n",
        "vocab_size=len(word_index) # YOUR CODE HERE\n",
        "\n",
        "sequences = tokenizer.texts_to_sequences(sentences) # YOUR CODE HERE\n",
        "padded = pad_sequences(sequences, maxlen=max_length, padding=padding_type, truncating=trunc_type) # YOUR CODE HERE\n",
        "\n",
        "split = int(test_portion * training_size)\n",
        "\n",
        "test_sequences = np.array(padded[:split]) # YOUR CODE HERE\n",
        "training_sequences = np.array(padded[split:training_size]) # YOUR CODE HERE\n",
        "test_labels = np.array(labels[:split]) # YOUR CODE HERE\n",
        "training_labels = np.array(labels[split:training_size]) # YOUR CODE HERE"
      ],
      "execution_count": 16,
      "outputs": []
    },
    {
      "cell_type": "code",
      "metadata": {
        "colab": {
          "base_uri": "https://localhost:8080/"
        },
        "id": "gIrtRem1En3N",
        "outputId": "2e4274ea-be36-42af-a181-d75cd4e5ecfa"
      },
      "source": [
        "print(vocab_size)\n",
        "print(word_index['i'])\n",
        "# Expected Output\n",
        "# 138858\n",
        "# 1"
      ],
      "execution_count": 17,
      "outputs": [
        {
          "output_type": "stream",
          "text": [
            "138750\n",
            "1\n"
          ],
          "name": "stdout"
        }
      ]
    },
    {
      "cell_type": "code",
      "metadata": {
        "colab": {
          "base_uri": "https://localhost:8080/"
        },
        "id": "C1zdgJkusRh0",
        "outputId": "b34be65b-e7bb-4615-8e5d-e5dded411ed4"
      },
      "source": [
        "# Note this is the 100 dimension version of GloVe from Stanford\n",
        "# I unzipped and hosted it on my site to make this notebook easier\n",
        "!wget --no-check-certificate \\\n",
        "    https://storage.googleapis.com/laurencemoroney-blog.appspot.com/glove.6B.100d.txt \\\n",
        "    -O /tmp/glove.6B.100d.txt\n",
        "embeddings_index = {};\n",
        "with open('/tmp/glove.6B.100d.txt') as f:\n",
        "    for line in f:\n",
        "        values = line.split();\n",
        "        word = values[0];\n",
        "        coefs = np.asarray(values[1:], dtype='float32');\n",
        "        embeddings_index[word] = coefs;\n",
        "\n",
        "embeddings_matrix = np.zeros((vocab_size+1, embedding_dim));\n",
        "for word, i in word_index.items():\n",
        "    embedding_vector = embeddings_index.get(word);\n",
        "    if embedding_vector is not None:\n",
        "        embeddings_matrix[i] = embedding_vector;"
      ],
      "execution_count": 18,
      "outputs": [
        {
          "output_type": "stream",
          "text": [
            "--2021-01-16 19:07:08--  https://storage.googleapis.com/laurencemoroney-blog.appspot.com/glove.6B.100d.txt\n",
            "Resolving storage.googleapis.com (storage.googleapis.com)... 172.217.164.176, 172.217.7.176, 172.217.2.112, ...\n",
            "Connecting to storage.googleapis.com (storage.googleapis.com)|172.217.164.176|:443... connected.\n",
            "HTTP request sent, awaiting response... 200 OK\n",
            "Length: 347116733 (331M) [text/plain]\n",
            "Saving to: ‘/tmp/glove.6B.100d.txt’\n",
            "\n",
            "/tmp/glove.6B.100d. 100%[===================>] 331.04M   169MB/s    in 2.0s    \n",
            "\n",
            "2021-01-16 19:07:10 (169 MB/s) - ‘/tmp/glove.6B.100d.txt’ saved [347116733/347116733]\n",
            "\n"
          ],
          "name": "stdout"
        }
      ]
    },
    {
      "cell_type": "code",
      "metadata": {
        "colab": {
          "base_uri": "https://localhost:8080/"
        },
        "id": "71NLk_lpFLNt",
        "outputId": "e53ef62d-6af6-4e93-8a51-669bc5534649"
      },
      "source": [
        "print(len(embeddings_matrix))\n",
        "# Expected Output\n",
        "# 138859                                                                                               "
      ],
      "execution_count": 19,
      "outputs": [
        {
          "output_type": "stream",
          "text": [
            "138751\n"
          ],
          "name": "stdout"
        }
      ]
    },
    {
      "cell_type": "code",
      "metadata": {
        "colab": {
          "base_uri": "https://localhost:8080/"
        },
        "id": "iKKvbuEBOGFz",
        "outputId": "bf2cd5ab-e93f-480b-e998-42a568610ff1"
      },
      "source": [
        "model = tf.keras.Sequential([\n",
        "    tf.keras.layers.Embedding(vocab_size+1, embedding_dim, input_length=max_length, weights=[embeddings_matrix], trainable=False),\n",
        "    tf.keras.layers.Dropout(0.2),\n",
        "    tf.keras.layers.Conv1D(64, 5, activation='relu'),\n",
        "    tf.keras.layers.MaxPooling1D(pool_size=4),\n",
        "    tf.keras.layers.LSTM(64),\n",
        "    tf.keras.layers.Dense(1, activation='sigmoid')\n",
        "    # YOUR CODE HERE - experiment with combining different types, such as convolutions and LSTMs\n",
        "])\n",
        "model.compile(\n",
        "    # YOUR CODE HERE\n",
        "    loss='binary_crossentropy',\n",
        "    optimizer='adam',\n",
        "    metrics=['accuracy']\n",
        ")\n",
        "model.summary()\n",
        "\n",
        "num_epochs = 50\n",
        "history = model.fit(training_sequences, training_labels, epochs=num_epochs, validation_data=(test_sequences, test_labels), verbose=2)\n",
        "\n",
        "print(\"Training Complete\")\n"
      ],
      "execution_count": 20,
      "outputs": [
        {
          "output_type": "stream",
          "text": [
            "Model: \"sequential_1\"\n",
            "_________________________________________________________________\n",
            "Layer (type)                 Output Shape              Param #   \n",
            "=================================================================\n",
            "embedding_1 (Embedding)      (None, 16, 100)           13875100  \n",
            "_________________________________________________________________\n",
            "dropout_1 (Dropout)          (None, 16, 100)           0         \n",
            "_________________________________________________________________\n",
            "conv1d_1 (Conv1D)            (None, 12, 64)            32064     \n",
            "_________________________________________________________________\n",
            "max_pooling1d_1 (MaxPooling1 (None, 3, 64)             0         \n",
            "_________________________________________________________________\n",
            "lstm_1 (LSTM)                (None, 64)                33024     \n",
            "_________________________________________________________________\n",
            "dense_1 (Dense)              (None, 1)                 65        \n",
            "=================================================================\n",
            "Total params: 13,940,253\n",
            "Trainable params: 65,153\n",
            "Non-trainable params: 13,875,100\n",
            "_________________________________________________________________\n",
            "Epoch 1/50\n",
            "4500/4500 - 21s - loss: 0.5673 - accuracy: 0.6990 - val_loss: 0.5266 - val_accuracy: 0.7318\n",
            "Epoch 2/50\n",
            "4500/4500 - 13s - loss: 0.5277 - accuracy: 0.7325 - val_loss: 0.5138 - val_accuracy: 0.7401\n",
            "Epoch 3/50\n",
            "4500/4500 - 13s - loss: 0.5105 - accuracy: 0.7455 - val_loss: 0.5055 - val_accuracy: 0.7463\n",
            "Epoch 4/50\n",
            "4500/4500 - 13s - loss: 0.4997 - accuracy: 0.7518 - val_loss: 0.5019 - val_accuracy: 0.7492\n",
            "Epoch 5/50\n",
            "4500/4500 - 13s - loss: 0.4908 - accuracy: 0.7582 - val_loss: 0.5017 - val_accuracy: 0.7476\n",
            "Epoch 6/50\n",
            "4500/4500 - 13s - loss: 0.4845 - accuracy: 0.7626 - val_loss: 0.5019 - val_accuracy: 0.7482\n",
            "Epoch 7/50\n",
            "4500/4500 - 13s - loss: 0.4793 - accuracy: 0.7653 - val_loss: 0.5055 - val_accuracy: 0.7481\n",
            "Epoch 8/50\n",
            "4500/4500 - 13s - loss: 0.4744 - accuracy: 0.7691 - val_loss: 0.5016 - val_accuracy: 0.7496\n",
            "Epoch 9/50\n",
            "4500/4500 - 13s - loss: 0.4687 - accuracy: 0.7716 - val_loss: 0.5018 - val_accuracy: 0.7516\n",
            "Epoch 10/50\n",
            "4500/4500 - 13s - loss: 0.4660 - accuracy: 0.7728 - val_loss: 0.5112 - val_accuracy: 0.7424\n",
            "Epoch 11/50\n",
            "4500/4500 - 13s - loss: 0.4623 - accuracy: 0.7748 - val_loss: 0.5098 - val_accuracy: 0.7470\n",
            "Epoch 12/50\n",
            "4500/4500 - 13s - loss: 0.4597 - accuracy: 0.7774 - val_loss: 0.5053 - val_accuracy: 0.7502\n",
            "Epoch 13/50\n",
            "4500/4500 - 13s - loss: 0.4559 - accuracy: 0.7791 - val_loss: 0.5108 - val_accuracy: 0.7499\n",
            "Epoch 14/50\n",
            "4500/4500 - 13s - loss: 0.4529 - accuracy: 0.7821 - val_loss: 0.5066 - val_accuracy: 0.7528\n",
            "Epoch 15/50\n",
            "4500/4500 - 13s - loss: 0.4514 - accuracy: 0.7828 - val_loss: 0.5089 - val_accuracy: 0.7471\n",
            "Epoch 16/50\n",
            "4500/4500 - 13s - loss: 0.4508 - accuracy: 0.7819 - val_loss: 0.5104 - val_accuracy: 0.7500\n",
            "Epoch 17/50\n",
            "4500/4500 - 13s - loss: 0.4495 - accuracy: 0.7827 - val_loss: 0.5097 - val_accuracy: 0.7444\n",
            "Epoch 18/50\n",
            "4500/4500 - 13s - loss: 0.4458 - accuracy: 0.7853 - val_loss: 0.5126 - val_accuracy: 0.7444\n",
            "Epoch 19/50\n",
            "4500/4500 - 13s - loss: 0.4455 - accuracy: 0.7865 - val_loss: 0.5074 - val_accuracy: 0.7511\n",
            "Epoch 20/50\n",
            "4500/4500 - 13s - loss: 0.4424 - accuracy: 0.7873 - val_loss: 0.5179 - val_accuracy: 0.7475\n",
            "Epoch 21/50\n",
            "4500/4500 - 13s - loss: 0.4425 - accuracy: 0.7878 - val_loss: 0.5141 - val_accuracy: 0.7464\n",
            "Epoch 22/50\n",
            "4500/4500 - 13s - loss: 0.4410 - accuracy: 0.7892 - val_loss: 0.5123 - val_accuracy: 0.7488\n",
            "Epoch 23/50\n",
            "4500/4500 - 13s - loss: 0.4410 - accuracy: 0.7885 - val_loss: 0.5177 - val_accuracy: 0.7446\n",
            "Epoch 24/50\n",
            "4500/4500 - 13s - loss: 0.4382 - accuracy: 0.7901 - val_loss: 0.5176 - val_accuracy: 0.7503\n",
            "Epoch 25/50\n",
            "4500/4500 - 13s - loss: 0.4368 - accuracy: 0.7905 - val_loss: 0.5190 - val_accuracy: 0.7487\n",
            "Epoch 26/50\n",
            "4500/4500 - 13s - loss: 0.4376 - accuracy: 0.7917 - val_loss: 0.5159 - val_accuracy: 0.7461\n",
            "Epoch 27/50\n",
            "4500/4500 - 13s - loss: 0.4381 - accuracy: 0.7905 - val_loss: 0.5208 - val_accuracy: 0.7436\n",
            "Epoch 28/50\n",
            "4500/4500 - 13s - loss: 0.4357 - accuracy: 0.7914 - val_loss: 0.5172 - val_accuracy: 0.7473\n",
            "Epoch 29/50\n",
            "4500/4500 - 13s - loss: 0.4354 - accuracy: 0.7924 - val_loss: 0.5201 - val_accuracy: 0.7471\n",
            "Epoch 30/50\n",
            "4500/4500 - 13s - loss: 0.4346 - accuracy: 0.7926 - val_loss: 0.5246 - val_accuracy: 0.7466\n",
            "Epoch 31/50\n",
            "4500/4500 - 13s - loss: 0.4346 - accuracy: 0.7922 - val_loss: 0.5226 - val_accuracy: 0.7468\n",
            "Epoch 32/50\n",
            "4500/4500 - 13s - loss: 0.4338 - accuracy: 0.7922 - val_loss: 0.5216 - val_accuracy: 0.7461\n",
            "Epoch 33/50\n",
            "4500/4500 - 13s - loss: 0.4325 - accuracy: 0.7943 - val_loss: 0.5230 - val_accuracy: 0.7435\n",
            "Epoch 34/50\n",
            "4500/4500 - 13s - loss: 0.4334 - accuracy: 0.7921 - val_loss: 0.5195 - val_accuracy: 0.7443\n",
            "Epoch 35/50\n",
            "4500/4500 - 13s - loss: 0.4331 - accuracy: 0.7925 - val_loss: 0.5238 - val_accuracy: 0.7442\n",
            "Epoch 36/50\n",
            "4500/4500 - 13s - loss: 0.4325 - accuracy: 0.7921 - val_loss: 0.5244 - val_accuracy: 0.7427\n",
            "Epoch 37/50\n",
            "4500/4500 - 13s - loss: 0.4309 - accuracy: 0.7941 - val_loss: 0.5218 - val_accuracy: 0.7475\n",
            "Epoch 38/50\n",
            "4500/4500 - 13s - loss: 0.4317 - accuracy: 0.7943 - val_loss: 0.5236 - val_accuracy: 0.7458\n",
            "Epoch 39/50\n",
            "4500/4500 - 13s - loss: 0.4303 - accuracy: 0.7951 - val_loss: 0.5202 - val_accuracy: 0.7451\n",
            "Epoch 40/50\n",
            "4500/4500 - 13s - loss: 0.4302 - accuracy: 0.7947 - val_loss: 0.5167 - val_accuracy: 0.7465\n",
            "Epoch 41/50\n",
            "4500/4500 - 13s - loss: 0.4309 - accuracy: 0.7947 - val_loss: 0.5169 - val_accuracy: 0.7466\n",
            "Epoch 42/50\n",
            "4500/4500 - 13s - loss: 0.4305 - accuracy: 0.7944 - val_loss: 0.5223 - val_accuracy: 0.7451\n",
            "Epoch 43/50\n",
            "4500/4500 - 13s - loss: 0.4288 - accuracy: 0.7957 - val_loss: 0.5256 - val_accuracy: 0.7416\n",
            "Epoch 44/50\n",
            "4500/4500 - 13s - loss: 0.4295 - accuracy: 0.7958 - val_loss: 0.5211 - val_accuracy: 0.7456\n",
            "Epoch 45/50\n",
            "4500/4500 - 13s - loss: 0.4292 - accuracy: 0.7961 - val_loss: 0.5235 - val_accuracy: 0.7440\n",
            "Epoch 46/50\n",
            "4500/4500 - 13s - loss: 0.4279 - accuracy: 0.7971 - val_loss: 0.5291 - val_accuracy: 0.7453\n",
            "Epoch 47/50\n",
            "4500/4500 - 13s - loss: 0.4296 - accuracy: 0.7955 - val_loss: 0.5263 - val_accuracy: 0.7456\n",
            "Epoch 48/50\n",
            "4500/4500 - 13s - loss: 0.4286 - accuracy: 0.7962 - val_loss: 0.5289 - val_accuracy: 0.7421\n",
            "Epoch 49/50\n",
            "4500/4500 - 13s - loss: 0.4277 - accuracy: 0.7962 - val_loss: 0.5296 - val_accuracy: 0.7408\n",
            "Epoch 50/50\n",
            "4500/4500 - 13s - loss: 0.4284 - accuracy: 0.7960 - val_loss: 0.5195 - val_accuracy: 0.7433\n",
            "Training Complete\n"
          ],
          "name": "stdout"
        }
      ]
    },
    {
      "cell_type": "code",
      "metadata": {
        "colab": {
          "base_uri": "https://localhost:8080/",
          "height": 607
        },
        "id": "qxju4ItJKO8F",
        "outputId": "3e3b9b40-e51a-4b7a-991f-d2b8df0f6e4c"
      },
      "source": [
        "import matplotlib.image  as mpimg\n",
        "import matplotlib.pyplot as plt\n",
        "\n",
        "#-----------------------------------------------------------\n",
        "# Retrieve a list of list results on training and test data\n",
        "# sets for each training epoch\n",
        "#-----------------------------------------------------------\n",
        "acc=history.history['accuracy']\n",
        "val_acc=history.history['val_accuracy']\n",
        "loss=history.history['loss']\n",
        "val_loss=history.history['val_loss']\n",
        "\n",
        "epochs=range(len(acc)) # Get number of epochs\n",
        "\n",
        "#------------------------------------------------\n",
        "# Plot training and validation accuracy per epoch\n",
        "#------------------------------------------------\n",
        "plt.plot(epochs, acc, 'r')\n",
        "plt.plot(epochs, val_acc, 'b')\n",
        "plt.title('Training and validation accuracy')\n",
        "plt.xlabel(\"Epochs\")\n",
        "plt.ylabel(\"Accuracy\")\n",
        "plt.legend([\"Accuracy\", \"Validation Accuracy\"])\n",
        "\n",
        "plt.figure()\n",
        "\n",
        "#------------------------------------------------\n",
        "# Plot training and validation loss per epoch\n",
        "#------------------------------------------------\n",
        "plt.plot(epochs, loss, 'r')\n",
        "plt.plot(epochs, val_loss, 'b')\n",
        "plt.title('Training and validation loss')\n",
        "plt.xlabel(\"Epochs\")\n",
        "plt.ylabel(\"Loss\")\n",
        "plt.legend([\"Loss\", \"Validation Loss\"])\n",
        "\n",
        "plt.figure()\n",
        "\n",
        "\n",
        "# Expected Output\n",
        "# A chart where the validation loss does not increase sharply!"
      ],
      "execution_count": 21,
      "outputs": [
        {
          "output_type": "execute_result",
          "data": {
            "text/plain": [
              "<Figure size 432x288 with 0 Axes>"
            ]
          },
          "metadata": {
            "tags": []
          },
          "execution_count": 21
        },
        {
          "output_type": "display_data",
          "data": {
            "image/png": "[encoded data removed]",
            "text/plain": [
              "<Figure size 432x288 with 1 Axes>"
            ]
          },
          "metadata": {
            "tags": [],
            "needs_background": "light"
          }
        },
        {
          "output_type": "display_data",
          "data": {
            "image/png": "[encoded data removed]",
            "text/plain": [
              "<Figure size 432x288 with 1 Axes>"
            ]
          },
          "metadata": {
            "tags": [],
            "needs_background": "light"
          }
        },
        {
          "output_type": "display_data",
          "data": {
            "text/plain": [
              "<Figure size 432x288 with 0 Axes>"
            ]
          },
          "metadata": {
            "tags": []
          }
        }
      ]
    }
  ]
}