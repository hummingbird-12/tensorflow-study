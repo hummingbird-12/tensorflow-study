{
  "nbformat": 4,
  "nbformat_minor": 0,
  "metadata": {
    "accelerator": "GPU",
    "colab": {
      "name": "Course 2 - Part 4 - Lesson 4 - Notebook.ipynb",
      "provenance": [],
      "collapsed_sections": [],
      "toc_visible": true
    },
    "kernelspec": {
      "display_name": "Python 3",
      "name": "python3"
    }
  },
  "cells": [
    {
      "cell_type": "markdown",
      "metadata": {
        "id": "rX8mhOLljYeM"
      },
      "source": [
        "##### Copyright 2019 The TensorFlow Authors."
      ]
    },
    {
      "cell_type": "code",
      "metadata": {
        "cellView": "form",
        "id": "BZSlp3DAjdYf"
      },
      "source": [
        "#@title Licensed under the Apache License, Version 2.0 (the \"License\");\n",
        "# you may not use this file except in compliance with the License.\n",
        "# You may obtain a copy of the License at\n",
        "#\n",
        "# https://www.apache.org/licenses/LICENSE-2.0\n",
        "#\n",
        "# Unless required by applicable law or agreed to in writing, software\n",
        "# distributed under the License is distributed on an \"AS IS\" BASIS,\n",
        "# WITHOUT WARRANTIES OR CONDITIONS OF ANY KIND, either express or implied.\n",
        "# See the License for the specific language governing permissions and\n",
        "# limitations under the License."
      ],
      "execution_count": null,
      "outputs": []
    },
    {
      "cell_type": "code",
      "metadata": {
        "colab": {
          "base_uri": "https://localhost:8080/"
        },
        "id": "RXZT2UsyIVe_",
        "outputId": "9ff9160b-78e1-4cc9-890e-97b67f8afb69"
      },
      "source": [
        "!wget --no-check-certificate \\\n",
        "    https://storage.googleapis.com/laurencemoroney-blog.appspot.com/horse-or-human.zip \\\n",
        "    -O /tmp/horse-or-human.zip\n",
        "\n",
        "!wget --no-check-certificate \\\n",
        "    https://storage.googleapis.com/laurencemoroney-blog.appspot.com/validation-horse-or-human.zip \\\n",
        "    -O /tmp/validation-horse-or-human.zip\n",
        "  \n",
        "import os\n",
        "import zipfile\n",
        "\n",
        "local_zip = '/tmp/horse-or-human.zip'\n",
        "zip_ref = zipfile.ZipFile(local_zip, 'r')\n",
        "zip_ref.extractall('/tmp/horse-or-human')\n",
        "local_zip = '/tmp/validation-horse-or-human.zip'\n",
        "zip_ref = zipfile.ZipFile(local_zip, 'r')\n",
        "zip_ref.extractall('/tmp/validation-horse-or-human')\n",
        "zip_ref.close()\n",
        "# Directory with our training horse pictures\n",
        "train_horse_dir = os.path.join('/tmp/horse-or-human/horses')\n",
        "\n",
        "# Directory with our training human pictures\n",
        "train_human_dir = os.path.join('/tmp/horse-or-human/humans')\n",
        "\n",
        "# Directory with our training horse pictures\n",
        "validation_horse_dir = os.path.join('/tmp/validation-horse-or-human/horses')\n",
        "\n",
        "# Directory with our training human pictures\n",
        "validation_human_dir = os.path.join('/tmp/validation-horse-or-human/humans')"
      ],
      "execution_count": 1,
      "outputs": [
        {
          "output_type": "stream",
          "text": [
            "--2021-01-06 16:40:34--  https://storage.googleapis.com/laurencemoroney-blog.appspot.com/horse-or-human.zip\n",
            "Resolving storage.googleapis.com (storage.googleapis.com)... 172.253.63.128, 142.250.31.128, 172.217.7.176, ...\n",
            "Connecting to storage.googleapis.com (storage.googleapis.com)|172.253.63.128|:443... connected.\n",
            "HTTP request sent, awaiting response... 200 OK\n",
            "Length: 149574867 (143M) [application/zip]\n",
            "Saving to: ‘/tmp/horse-or-human.zip’\n",
            "\n",
            "/tmp/horse-or-human 100%[===================>] 142.65M   233MB/s    in 0.6s    \n",
            "\n",
            "2021-01-06 16:40:35 (233 MB/s) - ‘/tmp/horse-or-human.zip’ saved [149574867/149574867]\n",
            "\n",
            "--2021-01-06 16:40:35--  https://storage.googleapis.com/laurencemoroney-blog.appspot.com/validation-horse-or-human.zip\n",
            "Resolving storage.googleapis.com (storage.googleapis.com)... 172.217.15.112, 172.217.2.112, 172.253.62.128, ...\n",
            "Connecting to storage.googleapis.com (storage.googleapis.com)|172.217.15.112|:443... connected.\n",
            "HTTP request sent, awaiting response... 200 OK\n",
            "Length: 11480187 (11M) [application/zip]\n",
            "Saving to: ‘/tmp/validation-horse-or-human.zip’\n",
            "\n",
            "/tmp/validation-hor 100%[===================>]  10.95M  --.-KB/s    in 0.05s   \n",
            "\n",
            "2021-01-06 16:40:35 (212 MB/s) - ‘/tmp/validation-horse-or-human.zip’ saved [11480187/11480187]\n",
            "\n"
          ],
          "name": "stdout"
        }
      ]
    },
    {
      "cell_type": "markdown",
      "metadata": {
        "id": "5oqBkNBJmtUv"
      },
      "source": [
        "## Building a Small Model from Scratch\n",
        "\n",
        "But before we continue, let's start defining the model:\n",
        "\n",
        "Step 1 will be to import tensorflow."
      ]
    },
    {
      "cell_type": "code",
      "metadata": {
        "id": "qvfZg3LQbD-5"
      },
      "source": [
        "import tensorflow as tf"
      ],
      "execution_count": 2,
      "outputs": []
    },
    {
      "cell_type": "markdown",
      "metadata": {
        "id": "BnhYCP4tdqjC"
      },
      "source": [
        "We then add convolutional layers as in the previous example, and flatten the final result to feed into the densely connected layers."
      ]
    },
    {
      "cell_type": "markdown",
      "metadata": {
        "id": "gokG5HKpdtzm"
      },
      "source": [
        "Finally we add the densely connected layers. \n",
        "\n",
        "Note that because we are facing a two-class classification problem, i.e. a *binary classification problem*, we will end our network with a [*sigmoid* activation](https://wikipedia.org/wiki/Sigmoid_function), so that the output of our network will be a single scalar between 0 and 1, encoding the probability that the current image is class 1 (as opposed to class 0)."
      ]
    },
    {
      "cell_type": "code",
      "metadata": {
        "id": "PixZ2s5QbYQ3"
      },
      "source": [
        "model = tf.keras.models.Sequential([\n",
        "    # Note the input shape is the desired size of the image 300x300 with 3 bytes color\n",
        "    # This is the first convolution\n",
        "    tf.keras.layers.Conv2D(16, (3,3), activation='relu', input_shape=(300, 300, 3)),\n",
        "    tf.keras.layers.MaxPooling2D(2, 2),\n",
        "    # The second convolution\n",
        "    tf.keras.layers.Conv2D(32, (3,3), activation='relu'),\n",
        "    tf.keras.layers.MaxPooling2D(2,2),\n",
        "    # The third convolution\n",
        "    tf.keras.layers.Conv2D(64, (3,3), activation='relu'),\n",
        "    tf.keras.layers.MaxPooling2D(2,2),\n",
        "    # The fourth convolution\n",
        "    tf.keras.layers.Conv2D(64, (3,3), activation='relu'),\n",
        "    tf.keras.layers.MaxPooling2D(2,2),\n",
        "    # The fifth convolution\n",
        "    tf.keras.layers.Conv2D(64, (3,3), activation='relu'),\n",
        "    tf.keras.layers.MaxPooling2D(2,2),\n",
        "    # Flatten the results to feed into a DNN\n",
        "    tf.keras.layers.Flatten(),\n",
        "    # 512 neuron hidden layer\n",
        "    tf.keras.layers.Dense(512, activation='relu'),\n",
        "    # Only 1 output neuron. It will contain a value from 0-1 where 0 for 1 class ('horses') and 1 for the other ('humans')\n",
        "    tf.keras.layers.Dense(1, activation='sigmoid')\n",
        "])"
      ],
      "execution_count": 3,
      "outputs": []
    },
    {
      "cell_type": "code",
      "metadata": {
        "id": "8DHWhFP_uhq3"
      },
      "source": [
        "from tensorflow.keras.optimizers import RMSprop\n",
        "\n",
        "model.compile(loss='binary_crossentropy',\n",
        "              optimizer=RMSprop(lr=1e-4),\n",
        "              metrics=['accuracy'])"
      ],
      "execution_count": 4,
      "outputs": []
    },
    {
      "cell_type": "code",
      "metadata": {
        "colab": {
          "base_uri": "https://localhost:8080/"
        },
        "id": "ClebU9NJg99G",
        "outputId": "c235280c-0459-44aa-c4bf-f3677bb9d028"
      },
      "source": [
        "from tensorflow.keras.preprocessing.image import ImageDataGenerator\n",
        "\n",
        "# All images will be rescaled by 1./255\n",
        "train_datagen = ImageDataGenerator(\n",
        "      rescale=1./255,\n",
        "      rotation_range=40,\n",
        "      width_shift_range=0.2,\n",
        "      height_shift_range=0.2,\n",
        "      shear_range=0.2,\n",
        "      zoom_range=0.2,\n",
        "      horizontal_flip=True,\n",
        "      fill_mode='nearest')\n",
        "\n",
        "validation_datagen = ImageDataGenerator(rescale=1/255)\n",
        "\n",
        "# Flow training images in batches of 128 using train_datagen generator\n",
        "train_generator = train_datagen.flow_from_directory(\n",
        "        '/tmp/horse-or-human/',  # This is the source directory for training images\n",
        "        target_size=(300, 300),  # All images will be resized to 150x150\n",
        "        batch_size=128,\n",
        "        # Since we use binary_crossentropy loss, we need binary labels\n",
        "        class_mode='binary')\n",
        "\n",
        "# Flow training images in batches of 128 using train_datagen generator\n",
        "validation_generator = validation_datagen.flow_from_directory(\n",
        "        '/tmp/validation-horse-or-human/',  # This is the source directory for training images\n",
        "        target_size=(300, 300),  # All images will be resized to 150x150\n",
        "        batch_size=32,\n",
        "        # Since we use binary_crossentropy loss, we need binary labels\n",
        "        class_mode='binary')"
      ],
      "execution_count": 5,
      "outputs": [
        {
          "output_type": "stream",
          "text": [
            "Found 1027 images belonging to 2 classes.\n",
            "Found 256 images belonging to 2 classes.\n"
          ],
          "name": "stdout"
        }
      ]
    },
    {
      "cell_type": "code",
      "metadata": {
        "colab": {
          "base_uri": "https://localhost:8080/"
        },
        "id": "Fb1_lgobv81m",
        "outputId": "4c8a3181-1fe1-4a0f-e589-03f1c17cee77"
      },
      "source": [
        "history = model.fit(\n",
        "      train_generator,\n",
        "      steps_per_epoch=8,  \n",
        "      epochs=100,\n",
        "      verbose=1,\n",
        "      validation_data = validation_generator,\n",
        "      validation_steps=8)"
      ],
      "execution_count": 6,
      "outputs": [
        {
          "output_type": "stream",
          "text": [
            "Epoch 1/100\n",
            "8/8 [==============================] - 29s 3s/step - loss: 0.6972 - accuracy: 0.5157 - val_loss: 0.6713 - val_accuracy: 0.6562\n",
            "Epoch 2/100\n",
            "8/8 [==============================] - 23s 3s/step - loss: 0.6822 - accuracy: 0.6553 - val_loss: 0.6481 - val_accuracy: 0.6016\n",
            "Epoch 3/100\n",
            "8/8 [==============================] - 23s 3s/step - loss: 0.6657 - accuracy: 0.6546 - val_loss: 0.6115 - val_accuracy: 0.6680\n",
            "Epoch 4/100\n",
            "8/8 [==============================] - 25s 3s/step - loss: 0.6312 - accuracy: 0.7447 - val_loss: 0.6780 - val_accuracy: 0.5117\n",
            "Epoch 5/100\n",
            "8/8 [==============================] - 22s 3s/step - loss: 0.5962 - accuracy: 0.6841 - val_loss: 0.5961 - val_accuracy: 0.5977\n",
            "Epoch 6/100\n",
            "8/8 [==============================] - 22s 3s/step - loss: 0.5947 - accuracy: 0.7306 - val_loss: 0.6104 - val_accuracy: 0.5898\n",
            "Epoch 7/100\n",
            "8/8 [==============================] - 21s 3s/step - loss: 0.5378 - accuracy: 0.7936 - val_loss: 0.4262 - val_accuracy: 0.9375\n",
            "Epoch 8/100\n",
            "8/8 [==============================] - 21s 3s/step - loss: 0.6120 - accuracy: 0.6902 - val_loss: 0.6620 - val_accuracy: 0.5898\n",
            "Epoch 9/100\n",
            "8/8 [==============================] - 21s 3s/step - loss: 0.5523 - accuracy: 0.7563 - val_loss: 0.6451 - val_accuracy: 0.6055\n",
            "Epoch 10/100\n",
            "8/8 [==============================] - 21s 3s/step - loss: 0.4939 - accuracy: 0.8119 - val_loss: 0.7768 - val_accuracy: 0.5703\n",
            "Epoch 11/100\n",
            "8/8 [==============================] - 21s 3s/step - loss: 0.4661 - accuracy: 0.7941 - val_loss: 0.8693 - val_accuracy: 0.5664\n",
            "Epoch 12/100\n",
            "8/8 [==============================] - 21s 3s/step - loss: 0.4608 - accuracy: 0.8008 - val_loss: 0.3083 - val_accuracy: 0.9023\n",
            "Epoch 13/100\n",
            "8/8 [==============================] - 21s 3s/step - loss: 0.4698 - accuracy: 0.7674 - val_loss: 1.0201 - val_accuracy: 0.5703\n",
            "Epoch 14/100\n",
            "8/8 [==============================] - 21s 3s/step - loss: 0.4625 - accuracy: 0.7996 - val_loss: 1.1171 - val_accuracy: 0.5703\n",
            "Epoch 15/100\n",
            "8/8 [==============================] - 21s 3s/step - loss: 0.4108 - accuracy: 0.8254 - val_loss: 1.2288 - val_accuracy: 0.5703\n",
            "Epoch 16/100\n",
            "8/8 [==============================] - 21s 3s/step - loss: 0.4291 - accuracy: 0.7654 - val_loss: 0.8072 - val_accuracy: 0.6562\n",
            "Epoch 17/100\n",
            "8/8 [==============================] - 21s 3s/step - loss: 0.4294 - accuracy: 0.8001 - val_loss: 0.9612 - val_accuracy: 0.6250\n",
            "Epoch 18/100\n",
            "8/8 [==============================] - 21s 3s/step - loss: 0.5645 - accuracy: 0.7194 - val_loss: 1.2467 - val_accuracy: 0.5742\n",
            "Epoch 19/100\n",
            "8/8 [==============================] - 21s 3s/step - loss: 0.3716 - accuracy: 0.8400 - val_loss: 1.1676 - val_accuracy: 0.5938\n",
            "Epoch 20/100\n",
            "8/8 [==============================] - 21s 3s/step - loss: 0.4474 - accuracy: 0.8012 - val_loss: 1.4366 - val_accuracy: 0.5586\n",
            "Epoch 21/100\n",
            "8/8 [==============================] - 21s 3s/step - loss: 0.3397 - accuracy: 0.8633 - val_loss: 1.7388 - val_accuracy: 0.5430\n",
            "Epoch 22/100\n",
            "8/8 [==============================] - 21s 3s/step - loss: 0.3533 - accuracy: 0.8287 - val_loss: 1.2557 - val_accuracy: 0.6133\n",
            "Epoch 23/100\n",
            "8/8 [==============================] - 21s 3s/step - loss: 0.4504 - accuracy: 0.7894 - val_loss: 1.3436 - val_accuracy: 0.5938\n",
            "Epoch 24/100\n",
            "8/8 [==============================] - 21s 3s/step - loss: 0.3613 - accuracy: 0.8493 - val_loss: 1.1564 - val_accuracy: 0.6250\n",
            "Epoch 25/100\n",
            "8/8 [==============================] - 21s 3s/step - loss: 0.3199 - accuracy: 0.8780 - val_loss: 1.2867 - val_accuracy: 0.6211\n",
            "Epoch 26/100\n",
            "8/8 [==============================] - 22s 3s/step - loss: 0.3456 - accuracy: 0.8517 - val_loss: 1.9480 - val_accuracy: 0.5586\n",
            "Epoch 27/100\n",
            "8/8 [==============================] - 22s 3s/step - loss: 0.4127 - accuracy: 0.8383 - val_loss: 1.7694 - val_accuracy: 0.5703\n",
            "Epoch 28/100\n",
            "8/8 [==============================] - 22s 3s/step - loss: 0.2760 - accuracy: 0.8864 - val_loss: 1.2918 - val_accuracy: 0.6445\n",
            "Epoch 29/100\n",
            "8/8 [==============================] - 21s 3s/step - loss: 0.3554 - accuracy: 0.8129 - val_loss: 2.0919 - val_accuracy: 0.5547\n",
            "Epoch 30/100\n",
            "8/8 [==============================] - 21s 3s/step - loss: 0.3063 - accuracy: 0.8671 - val_loss: 2.6811 - val_accuracy: 0.5117\n",
            "Epoch 31/100\n",
            "8/8 [==============================] - 21s 3s/step - loss: 0.3616 - accuracy: 0.8263 - val_loss: 1.0109 - val_accuracy: 0.6914\n",
            "Epoch 32/100\n",
            "8/8 [==============================] - 21s 3s/step - loss: 0.2833 - accuracy: 0.8792 - val_loss: 1.7802 - val_accuracy: 0.5742\n",
            "Epoch 33/100\n",
            "8/8 [==============================] - 22s 3s/step - loss: 0.2931 - accuracy: 0.8790 - val_loss: 1.6660 - val_accuracy: 0.5742\n",
            "Epoch 34/100\n",
            "8/8 [==============================] - 21s 3s/step - loss: 0.2887 - accuracy: 0.8946 - val_loss: 1.5790 - val_accuracy: 0.6133\n",
            "Epoch 35/100\n",
            "8/8 [==============================] - 21s 3s/step - loss: 0.4251 - accuracy: 0.7828 - val_loss: 1.7408 - val_accuracy: 0.5898\n",
            "Epoch 36/100\n",
            "8/8 [==============================] - 21s 3s/step - loss: 0.2895 - accuracy: 0.8735 - val_loss: 1.9501 - val_accuracy: 0.5742\n",
            "Epoch 37/100\n",
            "8/8 [==============================] - 21s 3s/step - loss: 0.2678 - accuracy: 0.8945 - val_loss: 1.3961 - val_accuracy: 0.6523\n",
            "Epoch 38/100\n",
            "8/8 [==============================] - 21s 3s/step - loss: 0.3308 - accuracy: 0.8516 - val_loss: 1.4720 - val_accuracy: 0.6133\n",
            "Epoch 39/100\n",
            "8/8 [==============================] - 21s 3s/step - loss: 0.2710 - accuracy: 0.8911 - val_loss: 1.4869 - val_accuracy: 0.6133\n",
            "Epoch 40/100\n",
            "8/8 [==============================] - 21s 3s/step - loss: 0.2898 - accuracy: 0.8894 - val_loss: 2.0564 - val_accuracy: 0.5664\n",
            "Epoch 41/100\n",
            "8/8 [==============================] - 21s 3s/step - loss: 0.2611 - accuracy: 0.8829 - val_loss: 1.9605 - val_accuracy: 0.5820\n",
            "Epoch 42/100\n",
            "8/8 [==============================] - 21s 3s/step - loss: 0.2448 - accuracy: 0.8884 - val_loss: 1.5267 - val_accuracy: 0.6328\n",
            "Epoch 43/100\n",
            "8/8 [==============================] - 21s 3s/step - loss: 0.2355 - accuracy: 0.9081 - val_loss: 4.3376 - val_accuracy: 0.5000\n",
            "Epoch 44/100\n",
            "8/8 [==============================] - 21s 3s/step - loss: 0.5174 - accuracy: 0.7820 - val_loss: 1.3687 - val_accuracy: 0.6758\n",
            "Epoch 45/100\n",
            "8/8 [==============================] - 21s 3s/step - loss: 0.3082 - accuracy: 0.8698 - val_loss: 1.8962 - val_accuracy: 0.6016\n",
            "Epoch 46/100\n",
            "8/8 [==============================] - 21s 3s/step - loss: 0.2381 - accuracy: 0.8963 - val_loss: 2.2059 - val_accuracy: 0.5703\n",
            "Epoch 47/100\n",
            "8/8 [==============================] - 21s 3s/step - loss: 0.2343 - accuracy: 0.8966 - val_loss: 2.2496 - val_accuracy: 0.5703\n",
            "Epoch 48/100\n",
            "8/8 [==============================] - 21s 3s/step - loss: 0.2351 - accuracy: 0.9029 - val_loss: 1.6329 - val_accuracy: 0.6172\n",
            "Epoch 49/100\n",
            "8/8 [==============================] - 21s 3s/step - loss: 0.2044 - accuracy: 0.9154 - val_loss: 2.0169 - val_accuracy: 0.5938\n",
            "Epoch 50/100\n",
            "8/8 [==============================] - 21s 3s/step - loss: 0.2593 - accuracy: 0.8957 - val_loss: 1.9654 - val_accuracy: 0.5898\n",
            "Epoch 51/100\n",
            "8/8 [==============================] - 21s 3s/step - loss: 0.2755 - accuracy: 0.8833 - val_loss: 2.1175 - val_accuracy: 0.5820\n",
            "Epoch 52/100\n",
            "8/8 [==============================] - 21s 3s/step - loss: 0.2149 - accuracy: 0.9141 - val_loss: 2.2494 - val_accuracy: 0.5781\n",
            "Epoch 53/100\n",
            "8/8 [==============================] - 21s 3s/step - loss: 0.2059 - accuracy: 0.9212 - val_loss: 3.7448 - val_accuracy: 0.5156\n",
            "Epoch 54/100\n",
            "8/8 [==============================] - 21s 3s/step - loss: 0.3102 - accuracy: 0.8725 - val_loss: 2.1269 - val_accuracy: 0.5820\n",
            "Epoch 55/100\n",
            "8/8 [==============================] - 21s 3s/step - loss: 0.1820 - accuracy: 0.9433 - val_loss: 2.2781 - val_accuracy: 0.5859\n",
            "Epoch 56/100\n",
            "8/8 [==============================] - 21s 3s/step - loss: 0.1751 - accuracy: 0.9381 - val_loss: 3.9316 - val_accuracy: 0.5156\n",
            "Epoch 57/100\n",
            "8/8 [==============================] - 21s 3s/step - loss: 0.3816 - accuracy: 0.8265 - val_loss: 2.4811 - val_accuracy: 0.5664\n",
            "Epoch 58/100\n",
            "8/8 [==============================] - 21s 3s/step - loss: 0.1984 - accuracy: 0.9238 - val_loss: 2.9016 - val_accuracy: 0.5469\n",
            "Epoch 59/100\n",
            "8/8 [==============================] - 21s 3s/step - loss: 0.2720 - accuracy: 0.8966 - val_loss: 2.7393 - val_accuracy: 0.5469\n",
            "Epoch 60/100\n",
            "8/8 [==============================] - 21s 3s/step - loss: 0.1672 - accuracy: 0.9386 - val_loss: 3.2487 - val_accuracy: 0.5195\n",
            "Epoch 61/100\n",
            "8/8 [==============================] - 21s 3s/step - loss: 0.1965 - accuracy: 0.9323 - val_loss: 2.9092 - val_accuracy: 0.5469\n",
            "Epoch 62/100\n",
            "8/8 [==============================] - 21s 3s/step - loss: 0.1805 - accuracy: 0.9309 - val_loss: 4.8340 - val_accuracy: 0.5000\n",
            "Epoch 63/100\n",
            "8/8 [==============================] - 21s 3s/step - loss: 0.3413 - accuracy: 0.8298 - val_loss: 2.3510 - val_accuracy: 0.5703\n",
            "Epoch 64/100\n",
            "8/8 [==============================] - 21s 3s/step - loss: 0.2022 - accuracy: 0.9320 - val_loss: 2.0236 - val_accuracy: 0.5859\n",
            "Epoch 65/100\n",
            "8/8 [==============================] - 21s 3s/step - loss: 0.1545 - accuracy: 0.9473 - val_loss: 2.6732 - val_accuracy: 0.5625\n",
            "Epoch 66/100\n",
            "8/8 [==============================] - 21s 3s/step - loss: 0.1921 - accuracy: 0.9264 - val_loss: 2.5654 - val_accuracy: 0.5742\n",
            "Epoch 67/100\n",
            "8/8 [==============================] - 21s 3s/step - loss: 0.2681 - accuracy: 0.8768 - val_loss: 2.5202 - val_accuracy: 0.5742\n",
            "Epoch 68/100\n",
            "8/8 [==============================] - 21s 3s/step - loss: 0.1389 - accuracy: 0.9506 - val_loss: 3.8038 - val_accuracy: 0.5156\n",
            "Epoch 69/100\n",
            "8/8 [==============================] - 21s 3s/step - loss: 0.3536 - accuracy: 0.8693 - val_loss: 2.6778 - val_accuracy: 0.5625\n",
            "Epoch 70/100\n",
            "8/8 [==============================] - 21s 3s/step - loss: 0.1751 - accuracy: 0.9338 - val_loss: 2.7892 - val_accuracy: 0.5586\n",
            "Epoch 71/100\n",
            "8/8 [==============================] - 21s 3s/step - loss: 0.2595 - accuracy: 0.8937 - val_loss: 2.0338 - val_accuracy: 0.6133\n",
            "Epoch 72/100\n",
            "8/8 [==============================] - 21s 3s/step - loss: 0.1230 - accuracy: 0.9632 - val_loss: 2.5126 - val_accuracy: 0.5859\n",
            "Epoch 73/100\n",
            "8/8 [==============================] - 22s 3s/step - loss: 0.1562 - accuracy: 0.9494 - val_loss: 0.8742 - val_accuracy: 0.7461\n",
            "Epoch 74/100\n",
            "8/8 [==============================] - 22s 3s/step - loss: 0.2209 - accuracy: 0.8965 - val_loss: 2.6089 - val_accuracy: 0.5625\n",
            "Epoch 75/100\n",
            "8/8 [==============================] - 22s 3s/step - loss: 0.2006 - accuracy: 0.9071 - val_loss: 2.6804 - val_accuracy: 0.5625\n",
            "Epoch 76/100\n",
            "8/8 [==============================] - 21s 3s/step - loss: 0.1898 - accuracy: 0.9434 - val_loss: 2.5894 - val_accuracy: 0.5703\n",
            "Epoch 77/100\n",
            "8/8 [==============================] - 21s 3s/step - loss: 0.1854 - accuracy: 0.9145 - val_loss: 2.5370 - val_accuracy: 0.5703\n",
            "Epoch 78/100\n",
            "8/8 [==============================] - 21s 3s/step - loss: 0.1364 - accuracy: 0.9567 - val_loss: 2.3756 - val_accuracy: 0.6016\n",
            "Epoch 79/100\n",
            "8/8 [==============================] - 21s 3s/step - loss: 0.3368 - accuracy: 0.8477 - val_loss: 2.5899 - val_accuracy: 0.5781\n",
            "Epoch 80/100\n",
            "8/8 [==============================] - 21s 3s/step - loss: 0.1348 - accuracy: 0.9447 - val_loss: 4.9687 - val_accuracy: 0.5000\n",
            "Epoch 81/100\n",
            "8/8 [==============================] - 21s 3s/step - loss: 0.3837 - accuracy: 0.8606 - val_loss: 2.7516 - val_accuracy: 0.5586\n",
            "Epoch 82/100\n",
            "8/8 [==============================] - 21s 3s/step - loss: 0.1772 - accuracy: 0.9400 - val_loss: 2.9589 - val_accuracy: 0.5273\n",
            "Epoch 83/100\n",
            "8/8 [==============================] - 21s 3s/step - loss: 0.1449 - accuracy: 0.9528 - val_loss: 2.9783 - val_accuracy: 0.5469\n",
            "Epoch 84/100\n",
            "8/8 [==============================] - 21s 3s/step - loss: 0.1837 - accuracy: 0.9458 - val_loss: 2.5537 - val_accuracy: 0.5703\n",
            "Epoch 85/100\n",
            "8/8 [==============================] - 23s 3s/step - loss: 0.1236 - accuracy: 0.9639 - val_loss: 2.5954 - val_accuracy: 0.5703\n",
            "Epoch 86/100\n",
            "8/8 [==============================] - 21s 3s/step - loss: 0.1203 - accuracy: 0.9522 - val_loss: 4.3053 - val_accuracy: 0.5117\n",
            "Epoch 87/100\n",
            "8/8 [==============================] - 21s 3s/step - loss: 0.2426 - accuracy: 0.8961 - val_loss: 2.6880 - val_accuracy: 0.5781\n",
            "Epoch 88/100\n",
            "8/8 [==============================] - 21s 3s/step - loss: 0.1826 - accuracy: 0.9288 - val_loss: 2.7131 - val_accuracy: 0.5625\n",
            "Epoch 89/100\n",
            "8/8 [==============================] - 21s 3s/step - loss: 0.1668 - accuracy: 0.9392 - val_loss: 2.9991 - val_accuracy: 0.5586\n",
            "Epoch 90/100\n",
            "8/8 [==============================] - 21s 3s/step - loss: 0.1275 - accuracy: 0.9519 - val_loss: 2.2285 - val_accuracy: 0.6055\n",
            "Epoch 91/100\n",
            "8/8 [==============================] - 21s 3s/step - loss: 0.1795 - accuracy: 0.9279 - val_loss: 2.4682 - val_accuracy: 0.5820\n",
            "Epoch 92/100\n",
            "8/8 [==============================] - 21s 3s/step - loss: 0.1659 - accuracy: 0.9271 - val_loss: 3.0072 - val_accuracy: 0.5703\n",
            "Epoch 93/100\n",
            "8/8 [==============================] - 21s 3s/step - loss: 0.1329 - accuracy: 0.9452 - val_loss: 1.9197 - val_accuracy: 0.6445\n",
            "Epoch 94/100\n",
            "8/8 [==============================] - 21s 3s/step - loss: 0.1553 - accuracy: 0.9318 - val_loss: 5.1807 - val_accuracy: 0.5039\n",
            "Epoch 95/100\n",
            "8/8 [==============================] - 21s 3s/step - loss: 0.2171 - accuracy: 0.9001 - val_loss: 2.0975 - val_accuracy: 0.6289\n",
            "Epoch 96/100\n",
            "8/8 [==============================] - 21s 3s/step - loss: 0.2908 - accuracy: 0.8700 - val_loss: 3.1268 - val_accuracy: 0.5586\n",
            "Epoch 97/100\n",
            "8/8 [==============================] - 21s 3s/step - loss: 0.1286 - accuracy: 0.9456 - val_loss: 3.9899 - val_accuracy: 0.5156\n",
            "Epoch 98/100\n",
            "8/8 [==============================] - 23s 3s/step - loss: 0.1085 - accuracy: 0.9661 - val_loss: 2.1061 - val_accuracy: 0.6328\n",
            "Epoch 99/100\n",
            "8/8 [==============================] - 21s 3s/step - loss: 0.1807 - accuracy: 0.9140 - val_loss: 2.9797 - val_accuracy: 0.5703\n",
            "Epoch 100/100\n",
            "8/8 [==============================] - 21s 3s/step - loss: 0.1405 - accuracy: 0.9437 - val_loss: 2.4817 - val_accuracy: 0.5859\n"
          ],
          "name": "stdout"
        }
      ]
    },
    {
      "cell_type": "code",
      "metadata": {
        "colab": {
          "base_uri": "https://localhost:8080/",
          "height": 545
        },
        "id": "7zNPRWOVJdOH",
        "outputId": "8821e337-eb31-4f56-dd38-5713811162e7"
      },
      "source": [
        "import matplotlib.pyplot as plt\n",
        "acc = history.history['accuracy']\n",
        "val_acc = history.history['val_accuracy']\n",
        "loss = history.history['loss']\n",
        "val_loss = history.history['val_loss']\n",
        "\n",
        "epochs = range(len(acc))\n",
        "\n",
        "plt.plot(epochs, acc, 'r', label='Training accuracy')\n",
        "plt.plot(epochs, val_acc, 'b', label='Validation accuracy')\n",
        "plt.title('Training and validation accuracy')\n",
        "\n",
        "plt.figure()\n",
        "\n",
        "plt.plot(epochs, loss, 'r', label='Training Loss')\n",
        "plt.plot(epochs, val_loss, 'b', label='Validation Loss')\n",
        "plt.title('Training and validation loss')\n",
        "plt.legend()\n",
        "\n",
        "plt.show()"
      ],
      "execution_count": 7,
      "outputs": [
        {
          "output_type": "display_data",
          "data": {
            "image/png": "[encoded data removed]",
            "text/plain": [
              "<Figure size 432x288 with 1 Axes>"
            ]
          },
          "metadata": {
            "tags": [],
            "needs_background": "light"
          }
        },
        {
          "output_type": "display_data",
          "data": {
            "image/png": "[encoded data removed]",
            "text/plain": [
              "<Figure size 432x288 with 1 Axes>"
            ]
          },
          "metadata": {
            "tags": [],
            "needs_background": "light"
          }
        }
      ]
    }
  ]
}